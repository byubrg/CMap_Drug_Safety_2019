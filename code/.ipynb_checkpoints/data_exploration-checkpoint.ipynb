{
 "cells": [
  {
   "cell_type": "markdown",
   "metadata": {},
   "source": [
    "# CMAP Data"
   ]
  },
  {
   "cell_type": "code",
   "execution_count": null,
   "metadata": {},
   "outputs": [],
   "source": [
    "import pandas as pd\n",
    "\n",
    "selDrugs = pd.read_csv(\"../data/selDrugs.csv\")\n",
    "selDrugsInfo13 = pd.read_csv(\"../data/selDrugsInfo13.csv\")\n",
    "drank_sel = pd.read_csv(\"../data/drank_sel.csv\")\n",
    "gct_cdesc = pd.read_csv(\"../data/gct/cdesc.csv\")\n",
    "gct_cid = pd.read_csv(\"../data/gct/cid.csv\")\n",
    "gct_mat = pd.read_csv(\"../data/gct/mat.csv\")\n",
    "gct_mat #rdesc.csv  rid.csv\n",
    "#gct_rdesc = pd.read_csv(\"../data/gct/rdesc.csv\")\n",
    "#gct_rid = pd.read_csv(\"../data/gct/rid.csv\")"
   ]
  }
 ],
 "metadata": {
  "kernelspec": {
   "display_name": "Python 3",
   "language": "python",
   "name": "python3"
  },
  "language_info": {
   "codemirror_mode": {
    "name": "ipython",
    "version": 3
   },
   "file_extension": ".py",
   "mimetype": "text/x-python",
   "name": "python",
   "nbconvert_exporter": "python",
   "pygments_lexer": "ipython3",
   "version": "3.7.1"
  }
 },
 "nbformat": 4,
 "nbformat_minor": 2
}
